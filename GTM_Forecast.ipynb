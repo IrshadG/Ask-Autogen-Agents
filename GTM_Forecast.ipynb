{
 "cells": [
  {
   "cell_type": "code",
   "execution_count": 1,
   "id": "e29c5a62-3572-4c43-ab33-5da0e3cb9420",
   "metadata": {},
   "outputs": [
    {
     "name": "stderr",
     "output_type": "stream",
     "text": [
      "C:\\Users\\admim\\anaconda3\\envs\\POP\\Lib\\site-packages\\torchaudio\\backend\\utils.py:74: UserWarning: No audio backend is available.\n",
      "  warnings.warn(\"No audio backend is available.\")\n"
     ]
    }
   ],
   "source": [
    "import argparse\n",
    "import torch\n",
    "import pandas as pd\n",
    "import numpy as np\n",
    "import pytorch_lightning as pl\n",
    "from tqdm import tqdm\n",
    "from models.GTM import GTM\n",
    "# from models.FCN import FCN\n",
    "from utils.data_multitrends import ZeroShotDataset\n",
    "from pathlib import Path\n",
    "from sklearn.metrics import mean_absolute_error\n",
    "import matplotlib.pyplot as plt\n",
    "from PIL import Image\n",
    "import torchvision.transforms as T"
   ]
  },
  {
   "cell_type": "code",
   "execution_count": 2,
   "id": "1c0645b0-14a6-4321-bee5-23f106f1c6f5",
   "metadata": {},
   "outputs": [],
   "source": [
    "def cal_error_metrics(gt, forecasts):\n",
    "    # Absolute errors\n",
    "    mae = mean_absolute_error(gt, forecasts)\n",
    "    wape = 100 * np.sum(np.sum(np.abs(gt - forecasts), axis=-1)) / np.sum(gt)\n",
    "\n",
    "    return round(mae, 3), round(wape, 3)"
   ]
  },
  {
   "cell_type": "code",
   "execution_count": 3,
   "id": "00da22ec-c8f8-47ab-a1aa-7db81c84368a",
   "metadata": {},
   "outputs": [],
   "source": [
    "def print_error_metrics(y_test, y_hat, rescaled_y_test, rescaled_y_hat):\n",
    "    mae, wape = cal_error_metrics(y_test, y_hat)\n",
    "    rescaled_mae, rescaled_wape = cal_error_metrics(rescaled_y_test, rescaled_y_hat)\n",
    "    print(\"MAE: \",mae, \"\\nWAPE: \", wape, \"\\nRescaled MAE: \", rescaled_mae, \"\\nRescaled WAPE\", rescaled_wape)\n",
    "        # plot lines\n",
    "    plt.plot(rescaled_y_test, label = \"Actual Sales\")\n",
    "    plt.plot(rescaled_y_hat, label = \"GTM Prediction\")\n",
    "    plt.xlabel('Weeks')\n",
    "    plt.ylabel('Sales')\n",
    "    plt.legend()\n",
    "    plt.show()"
   ]
  },
  {
   "cell_type": "code",
   "execution_count": 4,
   "id": "42f4003b-5177-4493-88ad-a0a4146a219a",
   "metadata": {},
   "outputs": [],
   "source": [
    "def get_key_from_dict(dict , vals):\n",
    "    # list out keys and values separately\n",
    "    key_list = list(dict.keys())\n",
    "    val_list = list(dict.values())\n",
    "     \n",
    "    # Get key with val \n",
    "    keys = []\n",
    "    for val in vals:\n",
    "        keys.append(key_list[val_list.index(val)])\n",
    "    return keys"
   ]
  },
  {
   "cell_type": "code",
   "execution_count": 5,
   "id": "ff679ba6-926b-42ea-9f95-dd9ebcd212a4",
   "metadata": {},
   "outputs": [],
   "source": [
    "# General arguments\n",
    "class Args():\n",
    "    def __init__(self):\n",
    "        self.data_folder = 'dataset/'\n",
    "        self.ckpt_path = 'log/GTM/GTM_epoch35.ckpt'\n",
    "        self.gpu_num = 0\n",
    "        self.seed = 21\n",
    "    \n",
    "        self.model_type = 'GTM'\n",
    "        self.use_trends = 1\n",
    "        self.use_img = 1\n",
    "        self.use_text = 1\n",
    "        self.trend_len = 52\n",
    "        self.num_trends = 3\n",
    "        self.embedding_dim =32 \n",
    "        self.hidden_dim = 64\n",
    "        self.output_dim = 12\n",
    "        self.use_encoder_mask =1\n",
    "        self.autoregressive = 0\n",
    "        self.num_attn_heads = 4\n",
    "        self.num_hidden_layers = 1\n",
    "    \n",
    "        self.wandb_run = 'Run1'   "
   ]
  },
  {
   "cell_type": "code",
   "execution_count": 6,
   "id": "b1704585-c5fd-4bca-8d01-0017d83e2198",
   "metadata": {},
   "outputs": [],
   "source": [
    "args = Args()"
   ]
  },
  {
   "cell_type": "code",
   "execution_count": 7,
   "id": "cbbf47a7-4160-4945-a0cb-ad14bc97ba4c",
   "metadata": {},
   "outputs": [
    {
     "name": "stderr",
     "output_type": "stream",
     "text": [
      "Global seed set to 21\n"
     ]
    },
    {
     "name": "stdout",
     "output_type": "stream",
     "text": [
      "<__main__.Args object at 0x000001C4E239ACD0>\n"
     ]
    }
   ],
   "source": [
    "print(args)\n",
    "    \n",
    "# Set up CUDA\n",
    "device = torch.device(f'cuda:{args.gpu_num}' if torch.cuda.is_available() else 'cpu')\n",
    "\n",
    "# Seeds for reproducibility\n",
    "pl.seed_everything(args.seed)\n",
    "\n",
    "# Load sales data    \n",
    "test_df = pd.read_csv(Path(args.data_folder + 'test.csv'), parse_dates=['release_date'])\n",
    "item_codes = test_df['external_code'].values\n",
    "img_paths = test_df['image_path'].values\n",
    " # Load category and color encodings\n",
    "cat_dict = torch.load(Path(args.data_folder + 'category_labels.pt'))\n",
    "col_dict = torch.load(Path(args.data_folder + 'color_labels.pt'))\n",
    "fab_dict = torch.load(Path(args.data_folder + 'fabric_labels.pt'))"
   ]
  },
  {
   "cell_type": "code",
   "execution_count": 8,
   "id": "2ec953f7-ca59-43ca-ab60-bdf464b945e8",
   "metadata": {},
   "outputs": [
    {
     "name": "stdout",
     "output_type": "stream",
     "text": [
      "Starting dataset creation process...\n"
     ]
    },
    {
     "name": "stderr",
     "output_type": "stream",
     "text": [
      "100%|################################################################################| 497/497 [00:07<00:00, 65.26it/s]\n"
     ]
    },
    {
     "name": "stdout",
     "output_type": "stream",
     "text": [
      "497\n",
      "Done.\n"
     ]
    }
   ],
   "source": [
    "# Load Google trends\n",
    "gtrends = pd.read_csv(Path(args.data_folder + 'gtrends.csv'), index_col=[0], parse_dates=True)\n",
    "\n",
    "test_loader = ZeroShotDataset(test_df, Path(args.data_folder + '/images'), gtrends, cat_dict, col_dict, \\\n",
    "        fab_dict, args.trend_len).get_loader(batch_size=1, train=False)\n",
    "\n",
    "\n",
    "model_savename = f'{args.wandb_run}_{args.output_dim}'"
   ]
  },
  {
   "cell_type": "code",
   "execution_count": 9,
   "id": "a4e285b6-6500-406c-b878-42a16bc4c4a8",
   "metadata": {},
   "outputs": [
    {
     "name": "stderr",
     "output_type": "stream",
     "text": [
      "C:\\Users\\admim\\anaconda3\\envs\\POP\\Lib\\site-packages\\torchvision\\models\\_utils.py:208: UserWarning: The parameter 'pretrained' is deprecated since 0.13 and may be removed in the future, please use 'weights' instead.\n",
      "  warnings.warn(\n",
      "C:\\Users\\admim\\anaconda3\\envs\\POP\\Lib\\site-packages\\torchvision\\models\\_utils.py:223: UserWarning: Arguments other than a weight enum or `None` for 'weights' are deprecated since 0.13 and may be removed in the future. The current behavior is equivalent to passing `weights=ResNet50_Weights.IMAGENET1K_V1`. You can also use `weights=ResNet50_Weights.DEFAULT` to get the most up-to-date weights.\n",
      "  warnings.warn(msg)\n"
     ]
    },
    {
     "data": {
      "text/plain": [
       "<All keys matched successfully>"
      ]
     },
     "execution_count": 9,
     "metadata": {},
     "output_type": "execute_result"
    }
   ],
   "source": [
    "# Create model\n",
    "model = None\n",
    "if args.model_type == 'FCN':\n",
    "    model = FCN(\n",
    "        embedding_dim=args.embedding_dim,\n",
    "        hidden_dim=args.hidden_dim,\n",
    "        output_dim=args.output_dim,\n",
    "        cat_dict=cat_dict,\n",
    "        col_dict=col_dict,\n",
    "        fab_dict=fab_dict,\n",
    "        use_trends=args.use_trends,\n",
    "        use_text=args.use_text,\n",
    "        use_img=args.use_img,\n",
    "        trend_len=args.trend_len,\n",
    "        num_trends=args.num_trends,\n",
    "        use_encoder_mask=args.use_encoder_mask,\n",
    "        gpu_num=args.gpu_num\n",
    "    )\n",
    "else:\n",
    "    model = GTM(\n",
    "        embedding_dim=args.embedding_dim,\n",
    "        hidden_dim=args.hidden_dim,\n",
    "        output_dim=args.output_dim,\n",
    "        num_heads=args.num_attn_heads,\n",
    "        num_layers=args.num_hidden_layers,\n",
    "        cat_dict=cat_dict,\n",
    "        col_dict=col_dict,\n",
    "        fab_dict=fab_dict,\n",
    "        use_text=args.use_text,\n",
    "        use_img=args.use_img,\n",
    "        trend_len=args.trend_len,\n",
    "        num_trends=args.num_trends,\n",
    "        use_encoder_mask=args.use_encoder_mask,\n",
    "        autoregressive=args.autoregressive,\n",
    "        gpu_num=args.gpu_num\n",
    "    )\n",
    "\n",
    "model.load_state_dict(torch.load(args.ckpt_path,map_location=torch.device('cpu'))['state_dict'], strict=False)\n"
   ]
  },
  {
   "cell_type": "code",
   "execution_count": 45,
   "id": "a81ccb30-1834-4248-81fd-70303edf1cad",
   "metadata": {},
   "outputs": [
    {
     "name": "stderr",
     "output_type": "stream",
     "text": [
      "100%|################################################################################| 497/497 [00:30<00:00, 16.46it/s]\n"
     ]
    }
   ],
   "source": [
    "# Forecast the testing set\n",
    "model.to(device)\n",
    "model.eval()\n",
    "gt, forecasts, attns = [], [],[]\n",
    "for test_data in tqdm(test_loader, total=len(test_loader), ascii=True):\n",
    "    with torch.no_grad():\n",
    "        test_data = [tensor.to(device) for tensor in test_data]\n",
    "        item_sales, category, color, textures, temporal_features, gtrends, images =  test_data\n",
    "        y_pred, att = model(category, color,textures, temporal_features, gtrends, images)\n",
    "        forecasts.append(y_pred.detach().cpu().numpy().flatten()[:args.output_dim])\n",
    "        gt.append(item_sales.detach().cpu().numpy().flatten()[:args.output_dim])\n",
    "        attns.append(att.detach().cpu().numpy())"
   ]
  },
  {
   "cell_type": "code",
   "execution_count": 46,
   "id": "064dd366-d3c5-47d3-a2b5-bd941e10a3eb",
   "metadata": {
    "scrolled": true
   },
   "outputs": [
    {
     "name": "stdout",
     "output_type": "stream",
     "text": [
      "MAE:  0.046 \n",
      "WAPE:  53.534 \n",
      "Rescaled MAE:  49.207 \n",
      "Rescaled WAPE 53.534\n"
     ]
    },
    {
     "data": {
      "image/png": "[encoded data removed]",
      "text/plain": [
       "<Figure size 640x480 with 1 Axes>"
      ]
     },
     "metadata": {},
     "output_type": "display_data"
    }
   ],
   "source": [
    "img_name='05103.png'\n",
    "n_imgs = []\n",
    "\n",
    "#Fix the path names\n",
    "for i in img_paths:\n",
    "    n_imgs.append(i[5:])\n",
    "\n",
    "index = n_imgs.index(img_name)\n",
    "\n",
    "category = get_key_from_dict(cat_dict, [test_loader.dataset[index][1].numpy()])[0]\n",
    "color = get_key_from_dict(col_dict, [test_loader.dataset[index][2].numpy()])[0]\n",
    "fabric = get_key_from_dict(fab_dict, [test_loader.dataset[index][3].numpy()])[0]\n",
    "\n",
    "\n",
    "print_error_metrics(gt, forecasts, rescaled_gt, rescaled_forecasts)"
   ]
  },
  {
   "cell_type": "code",
   "execution_count": 51,
   "id": "8494935c",
   "metadata": {},
   "outputs": [
    {
     "data": {
      "text/plain": [
       "(2, 12)"
      ]
     },
     "execution_count": 51,
     "metadata": {},
     "output_type": "execute_result"
    }
   ],
   "source": [
    "np.array([rescaled_gt,rescaled_forecasts]).shape"
   ]
  },
  {
   "cell_type": "code",
   "execution_count": 58,
   "id": "7dc1d1c0",
   "metadata": {},
   "outputs": [
    {
     "data": {
      "text/html": [
       "<div>\n",
       "<style scoped>\n",
       "    .dataframe tbody tr th:only-of-type {\n",
       "        vertical-align: middle;\n",
       "    }\n",
       "\n",
       "    .dataframe tbody tr th {\n",
       "        vertical-align: top;\n",
       "    }\n",
       "\n",
       "    .dataframe thead th {\n",
       "        text-align: right;\n",
       "    }\n",
       "</style>\n",
       "<table border=\"1\" class=\"dataframe\">\n",
       "  <thead>\n",
       "    <tr style=\"text-align: right;\">\n",
       "      <th></th>\n",
       "      <th>a</th>\n",
       "      <th>b</th>\n",
       "    </tr>\n",
       "  </thead>\n",
       "  <tbody>\n",
       "    <tr>\n",
       "      <th>0</th>\n",
       "      <td>47.0</td>\n",
       "      <td>23.999620</td>\n",
       "    </tr>\n",
       "    <tr>\n",
       "      <th>1</th>\n",
       "      <td>108.0</td>\n",
       "      <td>47.414284</td>\n",
       "    </tr>\n",
       "    <tr>\n",
       "      <th>2</th>\n",
       "      <td>112.0</td>\n",
       "      <td>53.379498</td>\n",
       "    </tr>\n",
       "    <tr>\n",
       "      <th>3</th>\n",
       "      <td>125.0</td>\n",
       "      <td>42.741405</td>\n",
       "    </tr>\n",
       "    <tr>\n",
       "      <th>4</th>\n",
       "      <td>89.0</td>\n",
       "      <td>46.185593</td>\n",
       "    </tr>\n",
       "    <tr>\n",
       "      <th>5</th>\n",
       "      <td>89.0</td>\n",
       "      <td>38.334438</td>\n",
       "    </tr>\n",
       "    <tr>\n",
       "      <th>6</th>\n",
       "      <td>101.0</td>\n",
       "      <td>60.053772</td>\n",
       "    </tr>\n",
       "    <tr>\n",
       "      <th>7</th>\n",
       "      <td>121.0</td>\n",
       "      <td>59.005299</td>\n",
       "    </tr>\n",
       "    <tr>\n",
       "      <th>8</th>\n",
       "      <td>116.0</td>\n",
       "      <td>41.524235</td>\n",
       "    </tr>\n",
       "    <tr>\n",
       "      <th>9</th>\n",
       "      <td>61.0</td>\n",
       "      <td>44.707920</td>\n",
       "    </tr>\n",
       "    <tr>\n",
       "      <th>10</th>\n",
       "      <td>60.0</td>\n",
       "      <td>24.024441</td>\n",
       "    </tr>\n",
       "    <tr>\n",
       "      <th>11</th>\n",
       "      <td>74.0</td>\n",
       "      <td>31.149210</td>\n",
       "    </tr>\n",
       "  </tbody>\n",
       "</table>\n",
       "</div>"
      ],
      "text/plain": [
       "        a          b\n",
       "0    47.0  23.999620\n",
       "1   108.0  47.414284\n",
       "2   112.0  53.379498\n",
       "3   125.0  42.741405\n",
       "4    89.0  46.185593\n",
       "5    89.0  38.334438\n",
       "6   101.0  60.053772\n",
       "7   121.0  59.005299\n",
       "8   116.0  41.524235\n",
       "9    61.0  44.707920\n",
       "10   60.0  24.024441\n",
       "11   74.0  31.149210"
      ]
     },
     "execution_count": 58,
     "metadata": {},
     "output_type": "execute_result"
    }
   ],
   "source": [
    "pd.DataFrame({\"a\":rescaled_gt,\n",
    "              \"b\":rescaled_forecasts})"
   ]
  },
  {
   "cell_type": "code",
   "execution_count": 55,
   "id": "d024102f",
   "metadata": {},
   "outputs": [
    {
     "data": {
      "text/plain": [
       "array([23.99962 , 47.414284, 53.379498, 42.741405, 46.185593, 38.33444 ,\n",
       "       60.053772, 59.0053  , 41.524235, 44.70792 , 24.02444 , 31.14921 ],\n",
       "      dtype=float32)"
      ]
     },
     "execution_count": 55,
     "metadata": {},
     "output_type": "execute_result"
    }
   ],
   "source": [
    "rescaled_forecasts"
   ]
  },
  {
   "cell_type": "code",
   "execution_count": null,
   "id": "84a09a52-1572-4563-b080-cf2180072fbb",
   "metadata": {},
   "outputs": [],
   "source": [
    "attns = np.stack(attns)\n",
    "forecasts = np.array(forecasts)\n",
    "gt = np.array(gt)\n",
    "\n",
    "rescale_vals = np.load(args.data_folder + 'normalization_scale.npy')\n",
    "rescaled_forecasts = forecasts * rescale_vals\n",
    "rescaled_gt = gt * rescale_vals\n",
    "print_error_metrics(gt, forecasts, rescaled_gt, rescaled_forecasts)\n",
    "\n",
    "\n",
    "torch.save({'results': forecasts* rescale_vals, 'gts': gt* rescale_vals, 'codes': item_codes.tolist()}, Path('results/' + model_savename+'.pth'))"
   ]
  },
  {
   "cell_type": "code",
   "execution_count": null,
   "id": "f2eb1477-5205-4758-9163-9757b48f31ff",
   "metadata": {},
   "outputs": [],
   "source": [
    "# define a transform to convert a tensor to PIL image\n",
    "transform = T.ToPILImage()\n",
    "\n",
    "# convert the tensor to PIL image using above transform\n",
    "img = transform(images[0])\n",
    "\n",
    "plt.imshow(img)\n",
    "print(\"Category: \",get_key_from_dict(cat_dict, category))\n",
    "print(\"Color: \",get_key_from_dict(col_dict, color))\n",
    "print(\"Texture: \",get_key_from_dict(fab_dict, textures))\n",
    "\n",
    "print(\"temporal_features shape: \", temporal_features.shape)\n"
   ]
  },
  {
   "cell_type": "code",
   "execution_count": null,
   "id": "0a0dc091-6087-469d-8d97-50841a5b25e9",
   "metadata": {},
   "outputs": [],
   "source": [
    "# plot lines\n",
    "plt.plot(gtrends[0][0], label = \"Category\")\n",
    "plt.xlabel('Weeks')\n",
    "plt.ylabel('Sales')\n",
    "plt.plot(gtrends[0][1], label = \"Color\")\n",
    "plt.xlabel('Weeks')\n",
    "plt.ylabel('Sales')\n",
    "plt.plot(gtrends[0][2], label = \"Fabric\")\n",
    "\n",
    "\n",
    "plt.legend()\n",
    "plt.show()"
   ]
  },
  {
   "cell_type": "code",
   "execution_count": null,
   "id": "fae57a3c-6d58-45d6-ac0d-cb6cf7620436",
   "metadata": {},
   "outputs": [],
   "source": []
  }
 ],
 "metadata": {
  "kernelspec": {
   "display_name": "Python 3 (ipykernel)",
   "language": "python",
   "name": "python3"
  },
  "language_info": {
   "codemirror_mode": {
    "name": "ipython",
    "version": 3
   },
   "file_extension": ".py",
   "mimetype": "text/x-python",
   "name": "python",
   "nbconvert_exporter": "python",
   "pygments_lexer": "ipython3",
   "version": "3.11.5"
  }
 },
 "nbformat": 4,
 "nbformat_minor": 5
}
