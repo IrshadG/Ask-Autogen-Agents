{
 "cells": [
  {
   "cell_type": "code",
   "execution_count": 1,
   "id": "56ce15ae-b671-44cc-b03a-00c2cfe11b3f",
   "metadata": {},
   "outputs": [],
   "source": [
    "import os\n",
    "import argparse\n",
    "import wandb\n",
    "import torch\n",
    "import pandas as pd\n",
    "import pytorch_lightning as pl\n",
    "from pytorch_lightning import loggers as pl_loggers\n",
    "from pathlib import Path\n",
    "from datetime import datetime\n",
    "from models.GTM import GTM\n",
    "from models.FCN import FCN\n",
    "from utils.data_multitrends import ZeroShotDataset\n"
   ]
  },
  {
   "cell_type": "code",
   "execution_count": 2,
   "id": "e9269004-8fb9-4340-9dfc-427790eeacb9",
   "metadata": {},
   "outputs": [],
   "source": [
    "os.environ[\"TOKENIZERS_PARALLELISM\"] = \"false\""
   ]
  },
  {
   "cell_type": "code",
   "execution_count": 3,
   "id": "708716d3-cae4-4ca2-b9ea-db1b65ba75eb",
   "metadata": {},
   "outputs": [],
   "source": [
    "# General arguments\n",
    "class Args(argparse.Namespace):\n",
    "    def __init__(self):\n",
    "        # General arguments\n",
    "        self.data_folder = 'dataset/'\n",
    "        self.img_root = 'dataset/images/'\n",
    "        self.pop_path = 'signals/pop.pt'\n",
    "    \n",
    "        self.log_dir = 'log'\n",
    "        self.ckpt_dir = 'ckpt'\n",
    "        self.seed = 21\n",
    "        self.epochs = 1\n",
    "        self.gpu_num = 0\n",
    "    \n",
    "        # Model specific arguments\n",
    "        self.use_trends = 1\n",
    "        self.use_img =1\n",
    "        self.use_text = 1\n",
    "        self.num_trends = 3\n",
    "        self.trend_len = 52\n",
    "        self.decoder_input_type = 3\n",
    "        self.batch_size = 128\n",
    "        self.embedding_dim = 32\n",
    "        self.hidden_dim = 64\n",
    "        self.output_dim = 12\n",
    "        self.use_encoder_mask = 1\n",
    "        self.autoregressive = 0\n",
    "        self.num_attn_heads = 4\n",
    "        self.num_hidden_layers = 1\n",
    "        self.model_type = 'GTM'\n",
    "        # wandb arguments\n",
    "        self.wandb_entity = 'irshadgirachirshu'\n",
    "        self.wandb_proj = 'Apparel.Ai'\n",
    "        self.wandb_run = 'Run1'\n"
   ]
  },
  {
   "cell_type": "code",
   "execution_count": 4,
   "id": "e1ef3342-ece3-4eef-8107-c57a0b900503",
   "metadata": {},
   "outputs": [],
   "source": [
    "args = Args()"
   ]
  },
  {
   "cell_type": "code",
   "execution_count": 5,
   "id": "8c94451a-ea73-4256-b327-335bb2db50ea",
   "metadata": {},
   "outputs": [
    {
     "name": "stderr",
     "output_type": "stream",
     "text": [
      "Global seed set to 21\n"
     ]
    },
    {
     "name": "stdout",
     "output_type": "stream",
     "text": [
      "Args(autoregressive=0, batch_size=128, ckpt_dir='ckpt', data_folder='dataset/', decoder_input_type=3, embedding_dim=32, epochs=1, gpu_num=0, hidden_dim=64, img_root='dataset/images/', log_dir='log', model_type='GTM', num_attn_heads=4, num_hidden_layers=1, num_trends=3, output_dim=12, pop_path='signals/pop.pt', seed=21, trend_len=52, use_encoder_mask=1, use_img=1, use_text=1, use_trends=1, wandb_entity='irshadgirachirshu', wandb_proj='Apparel.Ai', wandb_run='Run1')\n",
      "Starting dataset creation process...\n"
     ]
    },
    {
     "name": "stderr",
     "output_type": "stream",
     "text": [
      "100%|#######################################| 5080/5080 [01:14<00:00, 68.34it/s]\n"
     ]
    },
    {
     "name": "stdout",
     "output_type": "stream",
     "text": [
      "5080\n",
      "Done.\n",
      "Starting dataset creation process...\n"
     ]
    },
    {
     "name": "stderr",
     "output_type": "stream",
     "text": [
      "100%|#########################################| 497/497 [00:09<00:00, 51.43it/s]"
     ]
    },
    {
     "name": "stdout",
     "output_type": "stream",
     "text": [
      "497\n",
      "Done.\n"
     ]
    },
    {
     "name": "stderr",
     "output_type": "stream",
     "text": [
      "\n"
     ]
    }
   ],
   "source": [
    "print(args)\n",
    "# Seeds for reproducibility (By default we use the number 21)\n",
    "pl.seed_everything(args.seed)\n",
    "\n",
    "# Load sales data\n",
    "train_df = pd.read_csv(Path(args.data_folder + 'train.csv'), parse_dates=['release_date'])\n",
    "test_df = pd.read_csv(Path(args.data_folder + 'test.csv'), parse_dates=['release_date'])\n",
    "\n",
    "# Load category and color encodings\n",
    "cat_dict = torch.load(Path(args.data_folder + 'category_labels.pt'))\n",
    "col_dict = torch.load(Path(args.data_folder + 'color_labels.pt'))\n",
    "fab_dict = torch.load(Path(args.data_folder + 'fabric_labels.pt'))\n",
    "\n",
    "# Load Google trends\n",
    "gtrends = pd.read_csv(Path(args.data_folder + 'gtrends.csv'), index_col=[0], parse_dates=True)\n",
    "\n",
    "train_loader = ZeroShotDataset(train_df, Path(args.data_folder + '/images'), gtrends, cat_dict, col_dict,\n",
    "                               fab_dict, args.trend_len).get_loader(batch_size=args.batch_size, train=True)\n",
    "test_loader = ZeroShotDataset(test_df, Path(args.data_folder + '/images'), gtrends, cat_dict, col_dict,\n",
    "                              fab_dict, args.trend_len).get_loader(batch_size=1, train=False)\n",
    "\n"
   ]
  },
  {
   "cell_type": "code",
   "execution_count": 6,
   "id": "0510b516-cebc-42a1-b91e-092810ee68e4",
   "metadata": {},
   "outputs": [
    {
     "name": "stderr",
     "output_type": "stream",
     "text": [
      "/Users/irshad/Dev/PyEnv/env/lib/python3.8/site-packages/torchvision/models/_utils.py:208: UserWarning: The parameter 'pretrained' is deprecated since 0.13 and may be removed in the future, please use 'weights' instead.\n",
      "  warnings.warn(\n",
      "/Users/irshad/Dev/PyEnv/env/lib/python3.8/site-packages/torchvision/models/_utils.py:223: UserWarning: Arguments other than a weight enum or `None` for 'weights' are deprecated since 0.13 and may be removed in the future. The current behavior is equivalent to passing `weights=ResNet50_Weights.IMAGENET1K_V1`. You can also use `weights=ResNet50_Weights.DEFAULT` to get the most up-to-date weights.\n",
      "  warnings.warn(msg)\n"
     ]
    }
   ],
   "source": [
    "# Create model\n",
    "if args.model_type == 'FCN':\n",
    "    model = FCN(\n",
    "        embedding_dim=args.embedding_dim,\n",
    "        hidden_dim=args.hidden_dim,\n",
    "        output_dim=args.output_dim,\n",
    "        cat_dict=cat_dict,\n",
    "        col_dict=col_dict,\n",
    "        fab_dict=fab_dict,\n",
    "        use_trends=args.use_trends,\n",
    "        use_text=args.use_text,\n",
    "        use_img=args.use_img,\n",
    "        trend_len=args.trend_len,\n",
    "        num_trends=args.num_trends,\n",
    "        use_encoder_mask=args.use_encoder_mask,\n",
    "        gpu_num=args.gpu_num\n",
    "    )\n",
    "else:\n",
    "    model = GTM(\n",
    "        embedding_dim=args.embedding_dim,\n",
    "        hidden_dim=args.hidden_dim,\n",
    "        output_dim=args.output_dim,\n",
    "        num_heads=args.num_attn_heads,\n",
    "        num_layers=args.num_hidden_layers,\n",
    "        cat_dict=cat_dict,\n",
    "        col_dict=col_dict,\n",
    "        fab_dict=fab_dict,\n",
    "        use_text=args.use_text,\n",
    "        use_img=args.use_img,\n",
    "        trend_len=args.trend_len,\n",
    "        num_trends=args.num_trends,\n",
    "        use_encoder_mask=args.use_encoder_mask,\n",
    "        autoregressive=args.autoregressive,\n",
    "        gpu_num=args.gpu_num\n",
    "    )\n"
   ]
  },
  {
   "cell_type": "code",
   "execution_count": 7,
   "id": "c731d50d-f5d2-44d8-8de6-e991795e64c8",
   "metadata": {},
   "outputs": [
    {
     "name": "stderr",
     "output_type": "stream",
     "text": [
      "\u001b[34m\u001b[1mwandb\u001b[0m: Currently logged in as: \u001b[33mirshadgirachirshu\u001b[0m. Use \u001b[1m`wandb login --relogin`\u001b[0m to force relogin\n"
     ]
    },
    {
     "data": {
      "text/html": [
       "wandb version 0.15.11 is available!  To upgrade, please run:\n",
       " $ pip install wandb --upgrade"
      ],
      "text/plain": [
       "<IPython.core.display.HTML object>"
      ]
     },
     "metadata": {},
     "output_type": "display_data"
    },
    {
     "data": {
      "text/html": [
       "Tracking run with wandb version 0.15.10"
      ],
      "text/plain": [
       "<IPython.core.display.HTML object>"
      ]
     },
     "metadata": {},
     "output_type": "display_data"
    },
    {
     "data": {
      "text/html": [
       "Run data is saved locally in <code>/Users/irshad/Dev/PyEnv/GTM-Transformer/wandb/run-20230928_230738-rqdc9cz2</code>"
      ],
      "text/plain": [
       "<IPython.core.display.HTML object>"
      ]
     },
     "metadata": {},
     "output_type": "display_data"
    },
    {
     "data": {
      "text/html": [
       "Syncing run <strong><a href='https://wandb.ai/irshadgirachirshu/Apparel.Ai/runs/rqdc9cz2' target=\"_blank\">Run1</a></strong> to <a href='https://wandb.ai/irshadgirachirshu/Apparel.Ai' target=\"_blank\">Weights & Biases</a> (<a href='https://wandb.me/run' target=\"_blank\">docs</a>)<br/>"
      ],
      "text/plain": [
       "<IPython.core.display.HTML object>"
      ]
     },
     "metadata": {},
     "output_type": "display_data"
    },
    {
     "data": {
      "text/html": [
       " View project at <a href='https://wandb.ai/irshadgirachirshu/Apparel.Ai' target=\"_blank\">https://wandb.ai/irshadgirachirshu/Apparel.Ai</a>"
      ],
      "text/plain": [
       "<IPython.core.display.HTML object>"
      ]
     },
     "metadata": {},
     "output_type": "display_data"
    },
    {
     "data": {
      "text/html": [
       " View run at <a href='https://wandb.ai/irshadgirachirshu/Apparel.Ai/runs/rqdc9cz2' target=\"_blank\">https://wandb.ai/irshadgirachirshu/Apparel.Ai/runs/rqdc9cz2</a>"
      ],
      "text/plain": [
       "<IPython.core.display.HTML object>"
      ]
     },
     "metadata": {},
     "output_type": "display_data"
    },
    {
     "name": "stderr",
     "output_type": "stream",
     "text": [
      "/Users/irshad/Dev/PyEnv/env/lib/python3.8/site-packages/pytorch_lightning/loggers/wandb.py:398: UserWarning: There is a wandb run already in progress and newly created instances of `WandbLogger` will reuse this run. If this is not desired, call `wandb.finish()` before instantiating `WandbLogger`.\n",
      "  rank_zero_warn(\n",
      "\u001b[34m\u001b[1mwandb\u001b[0m: logging graph, to disable use `wandb.watch(log_graph=False)`\n"
     ]
    }
   ],
   "source": [
    "# Model Training\n",
    "# Define model saving procedure\n",
    "dt_string = datetime.now().strftime(\"%d-%m-%Y-%H-%M-%S\")\n",
    "\n",
    "model_savename = args.model_type + '_' + args.wandb_run\n",
    "\n",
    "checkpoint_callback = pl.callbacks.ModelCheckpoint(\n",
    "    dirpath=args.log_dir + '/'+args.model_type,\n",
    "    filename=model_savename+'---{epoch}---'+dt_string,\n",
    "    monitor='val_mae',\n",
    "    mode='min',\n",
    "    save_top_k=1\n",
    ")\n",
    "\n",
    "wandb.init(entity=args.wandb_entity, project=args.wandb_proj, name=args.wandb_run)\n",
    "wandb_logger = pl_loggers.WandbLogger()\n",
    "wandb_logger.watch(model)\n"
   ]
  },
  {
   "cell_type": "code",
   "execution_count": 8,
   "id": "a417d794-2454-4662-80a4-2ca9df740dd7",
   "metadata": {},
   "outputs": [
    {
     "name": "stderr",
     "output_type": "stream",
     "text": [
      "GPU available: True (mps), used: False\n",
      "TPU available: False, using: 0 TPU cores\n",
      "IPU available: False, using: 0 IPUs\n",
      "HPU available: False, using: 0 HPUs\n",
      "/Users/irshad/Dev/PyEnv/env/lib/python3.8/site-packages/pytorch_lightning/trainer/setup.py:201: UserWarning: MPS available but not used. Set `accelerator` and `devices` using `Trainer(accelerator='mps', devices=1)`.\n",
      "  rank_zero_warn(\n"
     ]
    }
   ],
   "source": [
    "trainer = pl.Trainer(accelerator='cpu',max_epochs=args.epochs, check_val_every_n_epoch=1,\n",
    "                         logger=wandb_logger, callbacks=[checkpoint_callback])"
   ]
  },
  {
   "cell_type": "code",
   "execution_count": 9,
   "id": "4f44d66f-5df4-46d7-9f31-d84bc1de3088",
   "metadata": {},
   "outputs": [
    {
     "name": "stderr",
     "output_type": "stream",
     "text": [
      "\n",
      "  | Name                   | Type               | Params\n",
      "--------------------------------------------------------------\n",
      "0 | dummy_encoder          | DummyEmbedder      | 4.4 K \n",
      "1 | image_encoder          | ImageEmbedder      | 23.5 M\n",
      "2 | text_encoder           | TextEmbedder       | 24.6 K\n",
      "3 | gtrend_encoder         | GTrendEmbedder     | 562 K \n",
      "4 | static_feature_encoder | FusionNetwork      | 81.2 K\n",
      "5 | decoder_linear         | TimeDistributed    | 128   \n",
      "6 | decoder                | TransformerDecoder | 50.0 K\n",
      "7 | decoder_fc             | Sequential         | 780   \n",
      "--------------------------------------------------------------\n",
      "723 K     Trainable params\n",
      "23.5 M    Non-trainable params\n",
      "24.2 M    Total params\n",
      "96.927    Total estimated model params size (MB)\n"
     ]
    },
    {
     "data": {
      "application/vnd.jupyter.widget-view+json": {
       "model_id": "",
       "version_major": 2,
       "version_minor": 0
      },
      "text/plain": [
       "Sanity Checking: 0it [00:00, ?it/s]"
      ]
     },
     "metadata": {},
     "output_type": "display_data"
    },
    {
     "name": "stdout",
     "output_type": "stream",
     "text": [
      "Validation MAE: 364.158 LR: None\n"
     ]
    },
    {
     "name": "stderr",
     "output_type": "stream",
     "text": [
      "/Users/irshad/Dev/PyEnv/env/lib/python3.8/site-packages/pytorch_lightning/loops/fit_loop.py:281: PossibleUserWarning: The number of training batches (40) is smaller than the logging interval Trainer(log_every_n_steps=50). Set a lower value for log_every_n_steps if you want to see logs for the training epoch.\n",
      "  rank_zero_warn(\n"
     ]
    },
    {
     "data": {
      "application/vnd.jupyter.widget-view+json": {
       "model_id": "518f2971636b431b9503be3ec974ecf3",
       "version_major": 2,
       "version_minor": 0
      },
      "text/plain": [
       "Training: 0it [00:00, ?it/s]"
      ]
     },
     "metadata": {},
     "output_type": "display_data"
    },
    {
     "data": {
      "application/vnd.jupyter.widget-view+json": {
       "model_id": "",
       "version_major": 2,
       "version_minor": 0
      },
      "text/plain": [
       "Validation: 0it [00:00, ?it/s]"
      ]
     },
     "metadata": {},
     "output_type": "display_data"
    },
    {
     "name": "stderr",
     "output_type": "stream",
     "text": [
      "`Trainer.fit` stopped: `max_epochs=1` reached.\n"
     ]
    },
    {
     "name": "stdout",
     "output_type": "stream",
     "text": [
      "Validation MAE: 319.17078 LR: tensor(3.4259e-06)\n",
      "/Users/irshad/Dev/PyEnv/GTM-Transformer/log/GTM/GTM_Run1---epoch=0---28-09-2023-23-07-37.ckpt\n"
     ]
    }
   ],
   "source": [
    "# Fit model\n",
    "trainer.fit(model, train_dataloaders=train_loader,\n",
    "            val_dataloaders=test_loader)\n",
    "\n",
    "# Print out path of best model\n",
    "print(checkpoint_callback.best_model_path)"
   ]
  }
 ],
 "metadata": {
  "kernelspec": {
   "display_name": "Python 3 (ipykernel)",
   "language": "python",
   "name": "python3"
  },
  "language_info": {
   "codemirror_mode": {
    "name": "ipython",
    "version": 3
   },
   "file_extension": ".py",
   "mimetype": "text/x-python",
   "name": "python",
   "nbconvert_exporter": "python",
   "pygments_lexer": "ipython3",
   "version": "3.11.2"
  }
 },
 "nbformat": 4,
 "nbformat_minor": 5
}
