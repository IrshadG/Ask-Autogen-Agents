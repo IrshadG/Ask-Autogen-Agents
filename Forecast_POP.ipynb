{
 "cells": [
  {
   "cell_type": "code",
   "execution_count": 1,
   "id": "b107cb5f-f33c-4e0e-bd19-e2c40fc239a3",
   "metadata": {},
   "outputs": [],
   "source": [
    "import argparse\n",
    "import torch\n",
    "import pandas as pd\n",
    "import numpy as np\n",
    "import pytorch_lightning as pl\n",
    "from tqdm import tqdm\n",
    "from models.GTM import GTM\n",
    "from models.FCN import FCN\n",
    "from utils.data_multitrends import ZeroShotDataset\n",
    "from pathlib import Path\n",
    "from sklearn.metrics import mean_absolute_error\n",
    "from pathlib import Path"
   ]
  },
  {
   "cell_type": "code",
   "execution_count": 2,
   "id": "558175eb-4ca3-4a62-9f5d-a6a8340c68fa",
   "metadata": {},
   "outputs": [],
   "source": [
    "def cal_error_metrics(gt, forecasts):\n",
    "    # Absolute errors\n",
    "    mae = mean_absolute_error(gt, forecasts)\n",
    "    wape = 100 * np.sum(np.sum(np.abs(gt - forecasts), axis=-1)) / np.sum(gt)\n",
    "\n",
    "    return round(mae, 3), round(wape, 3)"
   ]
  },
  {
   "cell_type": "code",
   "execution_count": 3,
   "id": "761c6cf2-1fe8-4b74-b01b-d9386daa3c8c",
   "metadata": {},
   "outputs": [],
   "source": [
    "def print_error_metrics(y_test, y_hat, rescaled_y_test, rescaled_y_hat):\n",
    "    mae, wape = cal_error_metrics(y_test, y_hat)\n",
    "    rescaled_mae, rescaled_wape = cal_error_metrics(rescaled_y_test, rescaled_y_hat)\n",
    "    print(mae, wape, rescaled_mae, rescaled_wape)"
   ]
  },
  {
   "cell_type": "code",
   "execution_count": 4,
   "id": "5e079f81-504b-4235-b543-57280a72645f",
   "metadata": {},
   "outputs": [],
   "source": [
    "def run(args):    \n",
    "    # Set up device\n",
    "    device = 'cpu'\n",
    "\n",
    "    # Seeds for reproducibility\n",
    "    pl.seed_everything(args.seed)\n",
    "\n",
    "    # Load sales data    \n",
    "    print(Path(args.data_folder + '/test.csv'))\n",
    "    test_df = pd.read_csv(Path(args.data_folder + '/test.csv'), parse_dates=['release_date'])\n",
    "    item_codes = test_df['external_code'].values\n",
    "\n",
    "     # Load category and color encodings\n",
    "    cat_dict = torch.load(Path(args.data_folder + '/category_labels.pt'))\n",
    "    col_dict = torch.load(Path(args.data_folder + '/color_labels.pt'))\n",
    "    fab_dict = torch.load(Path(args.data_folder + '/fabric_labels.pt'))\n",
    "\n",
    "    # Load Google trends\n",
    "    gtrends = pd.read_csv(Path(args.data_folder + '/gtrends.csv'), index_col=[0], parse_dates=True)\n",
    "    \n",
    "    test_loader = ZeroShotDataset(test_df, Path(args.data_folder + '/images'), gtrends, cat_dict, col_dict, \\\n",
    "            fab_dict, args.trend_len).get_loader(batch_size=1, train=False)\n",
    "\n",
    "\n",
    "    model_savename = f'{args.wandb_run}_{args.output_dim}'\n",
    "    print(\"Model save name:  \",model_savename)\n",
    "    \n",
    "    # Create model\n",
    "    model = None\n",
    "    if args.model_type == 'FCN':\n",
    "        model = FCN(\n",
    "            embedding_dim=args.embedding_dim,\n",
    "            hidden_dim=args.hidden_dim,\n",
    "            output_dim=args.output_dim,\n",
    "            cat_dict=cat_dict,\n",
    "            col_dict=col_dict,\n",
    "            fab_dict=fab_dict,\n",
    "            use_trends=args.use_trends,\n",
    "            use_text=args.use_text,\n",
    "            use_img=args.use_img,\n",
    "            trend_len=args.trend_len,\n",
    "            num_trends=args.num_trends,\n",
    "            use_encoder_mask=args.use_encoder_mask,\n",
    "            gpu_num=args.gpu_num\n",
    "        )\n",
    "    else:\n",
    "        model = GTM(\n",
    "            embedding_dim=args.embedding_dim,\n",
    "            hidden_dim=args.hidden_dim,\n",
    "            output_dim=args.output_dim,\n",
    "            num_heads=args.num_attn_heads,\n",
    "            num_layers=args.num_hidden_layers,\n",
    "            cat_dict=cat_dict,\n",
    "            col_dict=col_dict,\n",
    "            fab_dict=fab_dict,\n",
    "            use_text=args.use_text,\n",
    "            use_img=args.use_img,\n",
    "            trend_len=args.trend_len,\n",
    "            num_trends=args.num_trends,\n",
    "            use_encoder_mask=args.use_encoder_mask,\n",
    "            autoregressive=args.autoregressive,\n",
    "            gpu_num=args.gpu_num\n",
    "        )\n",
    "    print('Loading: ', args.ckpt_path)\n",
    "    #model.load_state_dict(torch.load(args.ckpt_path)['state_dict'], strict=False)\n",
    "\n",
    "    # Forecast the testing set\n",
    "    model.to(device)\n",
    "    model.eval()\n",
    "    gt, forecasts, attns = [], [],[]\n",
    "    for test_data in tqdm(test_loader, total=len(test_loader), ascii=True):\n",
    "        with torch.no_grad():\n",
    "            test_data = [tensor.to(device) for tensor in test_data]\n",
    "            item_sales, category, color, textures, temporal_features, gtrends, images =  test_data\n",
    "            y_pred, att = model(category, color,textures, temporal_features, gtrends, images)\n",
    "            forecasts.append(y_pred.detach().cpu().numpy().flatten()[:args.output_dim])\n",
    "            gt.append(item_sales.detach().cpu().numpy().flatten()[:args.output_dim])\n",
    "            attns.append(att.detach().cpu().numpy())\n",
    "\n",
    "    attns = np.stack(attns)\n",
    "    forecasts = np.array(forecasts)\n",
    "    gt = np.array(gt)\n",
    "\n",
    "    rescale_vals = np.load(args.data_folder + 'normalization_scale.npy')\n",
    "    rescaled_forecasts = forecasts * rescale_vals\n",
    "    rescaled_gt = gt * rescale_vals\n",
    "    print_error_metrics(gt, forecasts, rescaled_gt, rescaled_forecasts)\n",
    "\n",
    "    print(\"Saving results:   \", Path('results/' + model_savename+'.pth'))\n",
    "    torch.save({'results': forecasts* rescale_vals, 'gts': gt* rescale_vals, 'codes': item_codes.tolist()}, Path('results/' + model_savename+'.pth'))"
   ]
  },
  {
   "cell_type": "code",
   "execution_count": 5,
   "id": "d9b438c4-ba80-4431-9341-ad835b291308",
   "metadata": {},
   "outputs": [],
   "source": [
    "class Args():\n",
    "    def __init__(self):\n",
    "        self.data_folder = 'dataset/'\n",
    "        self.ckpt_path = 'log/path-to-model.ckpt'\n",
    "        self.gpu_num = 0\n",
    "        self.seed = 21\n",
    "    \n",
    "        self.model_type = 'GTM'\n",
    "        self.use_trends = 1\n",
    "        self.use_img = 1\n",
    "        self.use_text = 1\n",
    "        self.trend_len = 52\n",
    "        self.num_trends = 2\n",
    "        self.embedding_dim =32 \n",
    "        self.hidden_dim = 64\n",
    "        self.output_dim = 12\n",
    "        self.use_encoder_mask =1\n",
    "        self.autoregressive = 0\n",
    "        self.num_attn_heads = 4\n",
    "        self.num_hidden_layers = 1\n",
    "    \n",
    "        self.wandb_run = 'Run1'"
   ]
  },
  {
   "cell_type": "code",
   "execution_count": 6,
   "id": "ed3cc4a1-7cef-497c-8cd4-420fd0d85168",
   "metadata": {},
   "outputs": [],
   "source": [
    "args = Args()"
   ]
  },
  {
   "cell_type": "code",
   "execution_count": 7,
   "id": "1ff6c775-a655-49ff-bb58-3cc2d5232cb6",
   "metadata": {},
   "outputs": [
    {
     "name": "stderr",
     "output_type": "stream",
     "text": [
      "Global seed set to 21\n"
     ]
    },
    {
     "name": "stdout",
     "output_type": "stream",
     "text": [
      "dataset/test.csv\n",
      "Starting dataset creation process...\n"
     ]
    },
    {
     "name": "stderr",
     "output_type": "stream",
     "text": [
      "100%|###################################################| 497/497 [00:08<00:00, 55.57it/s]\n",
      "/Users/irshad/Dev/PyEnv/env/lib/python3.8/site-packages/torchvision/models/_utils.py:208: UserWarning: The parameter 'pretrained' is deprecated since 0.13 and may be removed in the future, please use 'weights' instead.\n",
      "  warnings.warn(\n",
      "/Users/irshad/Dev/PyEnv/env/lib/python3.8/site-packages/torchvision/models/_utils.py:223: UserWarning: Arguments other than a weight enum or `None` for 'weights' are deprecated since 0.13 and may be removed in the future. The current behavior is equivalent to passing `weights=ResNet50_Weights.IMAGENET1K_V1`. You can also use `weights=ResNet50_Weights.DEFAULT` to get the most up-to-date weights.\n",
      "  warnings.warn(msg)\n"
     ]
    },
    {
     "name": "stdout",
     "output_type": "stream",
     "text": [
      "Done.\n",
      "Model save name:   Run1_12\n",
      "Loading:  log/path-to-model.ckpt\n"
     ]
    },
    {
     "name": "stderr",
     "output_type": "stream",
     "text": [
      "  0%|                                                             | 0/497 [00:01<?, ?it/s]\n"
     ]
    },
    {
     "ename": "RuntimeError",
     "evalue": "mat1 and mat2 shapes cannot be multiplied (52x3 and 2x64)",
     "output_type": "error",
     "traceback": [
      "\u001b[0;31m---------------------------------------------------------------------------\u001b[0m",
      "\u001b[0;31mRuntimeError\u001b[0m                              Traceback (most recent call last)",
      "Cell \u001b[0;32mIn[7], line 1\u001b[0m\n\u001b[0;32m----> 1\u001b[0m \u001b[43mrun\u001b[49m\u001b[43m(\u001b[49m\u001b[43margs\u001b[49m\u001b[43m)\u001b[49m\n",
      "Cell \u001b[0;32mIn[4], line 75\u001b[0m, in \u001b[0;36mrun\u001b[0;34m(args)\u001b[0m\n\u001b[1;32m     73\u001b[0m test_data \u001b[38;5;241m=\u001b[39m [tensor\u001b[38;5;241m.\u001b[39mto(device) \u001b[38;5;28;01mfor\u001b[39;00m tensor \u001b[38;5;129;01min\u001b[39;00m test_data]\n\u001b[1;32m     74\u001b[0m item_sales, category, color, textures, temporal_features, gtrends, images \u001b[38;5;241m=\u001b[39m  test_data\n\u001b[0;32m---> 75\u001b[0m y_pred, att \u001b[38;5;241m=\u001b[39m \u001b[43mmodel\u001b[49m\u001b[43m(\u001b[49m\u001b[43mcategory\u001b[49m\u001b[43m,\u001b[49m\u001b[43m \u001b[49m\u001b[43mcolor\u001b[49m\u001b[43m,\u001b[49m\u001b[43mtextures\u001b[49m\u001b[43m,\u001b[49m\u001b[43m \u001b[49m\u001b[43mtemporal_features\u001b[49m\u001b[43m,\u001b[49m\u001b[43m \u001b[49m\u001b[43mgtrends\u001b[49m\u001b[43m,\u001b[49m\u001b[43m \u001b[49m\u001b[43mimages\u001b[49m\u001b[43m)\u001b[49m\n\u001b[1;32m     76\u001b[0m forecasts\u001b[38;5;241m.\u001b[39mappend(y_pred\u001b[38;5;241m.\u001b[39mdetach()\u001b[38;5;241m.\u001b[39mcpu()\u001b[38;5;241m.\u001b[39mnumpy()\u001b[38;5;241m.\u001b[39mflatten()[:args\u001b[38;5;241m.\u001b[39moutput_dim])\n\u001b[1;32m     77\u001b[0m gt\u001b[38;5;241m.\u001b[39mappend(item_sales\u001b[38;5;241m.\u001b[39mdetach()\u001b[38;5;241m.\u001b[39mcpu()\u001b[38;5;241m.\u001b[39mnumpy()\u001b[38;5;241m.\u001b[39mflatten()[:args\u001b[38;5;241m.\u001b[39moutput_dim])\n",
      "File \u001b[0;32m~/Dev/PyEnv/env/lib/python3.8/site-packages/torch/nn/modules/module.py:1501\u001b[0m, in \u001b[0;36mModule._call_impl\u001b[0;34m(self, *args, **kwargs)\u001b[0m\n\u001b[1;32m   1496\u001b[0m \u001b[38;5;66;03m# If we don't have any hooks, we want to skip the rest of the logic in\u001b[39;00m\n\u001b[1;32m   1497\u001b[0m \u001b[38;5;66;03m# this function, and just call forward.\u001b[39;00m\n\u001b[1;32m   1498\u001b[0m \u001b[38;5;28;01mif\u001b[39;00m \u001b[38;5;129;01mnot\u001b[39;00m (\u001b[38;5;28mself\u001b[39m\u001b[38;5;241m.\u001b[39m_backward_hooks \u001b[38;5;129;01mor\u001b[39;00m \u001b[38;5;28mself\u001b[39m\u001b[38;5;241m.\u001b[39m_backward_pre_hooks \u001b[38;5;129;01mor\u001b[39;00m \u001b[38;5;28mself\u001b[39m\u001b[38;5;241m.\u001b[39m_forward_hooks \u001b[38;5;129;01mor\u001b[39;00m \u001b[38;5;28mself\u001b[39m\u001b[38;5;241m.\u001b[39m_forward_pre_hooks\n\u001b[1;32m   1499\u001b[0m         \u001b[38;5;129;01mor\u001b[39;00m _global_backward_pre_hooks \u001b[38;5;129;01mor\u001b[39;00m _global_backward_hooks\n\u001b[1;32m   1500\u001b[0m         \u001b[38;5;129;01mor\u001b[39;00m _global_forward_hooks \u001b[38;5;129;01mor\u001b[39;00m _global_forward_pre_hooks):\n\u001b[0;32m-> 1501\u001b[0m     \u001b[38;5;28;01mreturn\u001b[39;00m \u001b[43mforward_call\u001b[49m\u001b[43m(\u001b[49m\u001b[38;5;241;43m*\u001b[39;49m\u001b[43margs\u001b[49m\u001b[43m,\u001b[49m\u001b[43m \u001b[49m\u001b[38;5;241;43m*\u001b[39;49m\u001b[38;5;241;43m*\u001b[39;49m\u001b[43mkwargs\u001b[49m\u001b[43m)\u001b[49m\n\u001b[1;32m   1502\u001b[0m \u001b[38;5;66;03m# Do not call functions when jit is used\u001b[39;00m\n\u001b[1;32m   1503\u001b[0m full_backward_hooks, non_full_backward_hooks \u001b[38;5;241m=\u001b[39m [], []\n",
      "File \u001b[0;32m~/Dev/PyEnv/GTM-Transformer/models/GTM.py:275\u001b[0m, in \u001b[0;36mGTM.forward\u001b[0;34m(self, category, color, fabric, temporal_features, gtrends, images)\u001b[0m\n\u001b[1;32m    273\u001b[0m dummy_encoding \u001b[38;5;241m=\u001b[39m \u001b[38;5;28mself\u001b[39m\u001b[38;5;241m.\u001b[39mdummy_encoder(temporal_features)\n\u001b[1;32m    274\u001b[0m text_encoding \u001b[38;5;241m=\u001b[39m \u001b[38;5;28mself\u001b[39m\u001b[38;5;241m.\u001b[39mtext_encoder(category, color, fabric)\n\u001b[0;32m--> 275\u001b[0m gtrend_encoding \u001b[38;5;241m=\u001b[39m \u001b[38;5;28;43mself\u001b[39;49m\u001b[38;5;241;43m.\u001b[39;49m\u001b[43mgtrend_encoder\u001b[49m\u001b[43m(\u001b[49m\u001b[43mgtrends\u001b[49m\u001b[43m)\u001b[49m\n\u001b[1;32m    277\u001b[0m \u001b[38;5;66;03m# Fuse static features together\u001b[39;00m\n\u001b[1;32m    278\u001b[0m static_feature_fusion \u001b[38;5;241m=\u001b[39m \u001b[38;5;28mself\u001b[39m\u001b[38;5;241m.\u001b[39mstatic_feature_encoder(img_encoding, text_encoding, dummy_encoding)\n",
      "File \u001b[0;32m~/Dev/PyEnv/env/lib/python3.8/site-packages/torch/nn/modules/module.py:1501\u001b[0m, in \u001b[0;36mModule._call_impl\u001b[0;34m(self, *args, **kwargs)\u001b[0m\n\u001b[1;32m   1496\u001b[0m \u001b[38;5;66;03m# If we don't have any hooks, we want to skip the rest of the logic in\u001b[39;00m\n\u001b[1;32m   1497\u001b[0m \u001b[38;5;66;03m# this function, and just call forward.\u001b[39;00m\n\u001b[1;32m   1498\u001b[0m \u001b[38;5;28;01mif\u001b[39;00m \u001b[38;5;129;01mnot\u001b[39;00m (\u001b[38;5;28mself\u001b[39m\u001b[38;5;241m.\u001b[39m_backward_hooks \u001b[38;5;129;01mor\u001b[39;00m \u001b[38;5;28mself\u001b[39m\u001b[38;5;241m.\u001b[39m_backward_pre_hooks \u001b[38;5;129;01mor\u001b[39;00m \u001b[38;5;28mself\u001b[39m\u001b[38;5;241m.\u001b[39m_forward_hooks \u001b[38;5;129;01mor\u001b[39;00m \u001b[38;5;28mself\u001b[39m\u001b[38;5;241m.\u001b[39m_forward_pre_hooks\n\u001b[1;32m   1499\u001b[0m         \u001b[38;5;129;01mor\u001b[39;00m _global_backward_pre_hooks \u001b[38;5;129;01mor\u001b[39;00m _global_backward_hooks\n\u001b[1;32m   1500\u001b[0m         \u001b[38;5;129;01mor\u001b[39;00m _global_forward_hooks \u001b[38;5;129;01mor\u001b[39;00m _global_forward_pre_hooks):\n\u001b[0;32m-> 1501\u001b[0m     \u001b[38;5;28;01mreturn\u001b[39;00m \u001b[43mforward_call\u001b[49m\u001b[43m(\u001b[49m\u001b[38;5;241;43m*\u001b[39;49m\u001b[43margs\u001b[49m\u001b[43m,\u001b[49m\u001b[43m \u001b[49m\u001b[38;5;241;43m*\u001b[39;49m\u001b[38;5;241;43m*\u001b[39;49m\u001b[43mkwargs\u001b[49m\u001b[43m)\u001b[49m\n\u001b[1;32m   1502\u001b[0m \u001b[38;5;66;03m# Do not call functions when jit is used\u001b[39;00m\n\u001b[1;32m   1503\u001b[0m full_backward_hooks, non_full_backward_hooks \u001b[38;5;241m=\u001b[39m [], []\n",
      "File \u001b[0;32m~/Dev/PyEnv/GTM-Transformer/models/GTM.py:115\u001b[0m, in \u001b[0;36mGTrendEmbedder.forward\u001b[0;34m(self, gtrends)\u001b[0m\n\u001b[1;32m    114\u001b[0m \u001b[38;5;28;01mdef\u001b[39;00m \u001b[38;5;21mforward\u001b[39m(\u001b[38;5;28mself\u001b[39m, gtrends):\n\u001b[0;32m--> 115\u001b[0m     gtrend_emb \u001b[38;5;241m=\u001b[39m \u001b[38;5;28;43mself\u001b[39;49m\u001b[38;5;241;43m.\u001b[39;49m\u001b[43minput_linear\u001b[49m\u001b[43m(\u001b[49m\u001b[43mgtrends\u001b[49m\u001b[38;5;241;43m.\u001b[39;49m\u001b[43mpermute\u001b[49m\u001b[43m(\u001b[49m\u001b[38;5;241;43m0\u001b[39;49m\u001b[43m,\u001b[49m\u001b[38;5;241;43m2\u001b[39;49m\u001b[43m,\u001b[49m\u001b[38;5;241;43m1\u001b[39;49m\u001b[43m)\u001b[49m\u001b[43m)\u001b[49m\n\u001b[1;32m    116\u001b[0m     gtrend_emb \u001b[38;5;241m=\u001b[39m \u001b[38;5;28mself\u001b[39m\u001b[38;5;241m.\u001b[39mpos_embedding(gtrend_emb\u001b[38;5;241m.\u001b[39mpermute(\u001b[38;5;241m1\u001b[39m,\u001b[38;5;241m0\u001b[39m,\u001b[38;5;241m2\u001b[39m))\n\u001b[1;32m    117\u001b[0m     input_mask \u001b[38;5;241m=\u001b[39m \u001b[38;5;28mself\u001b[39m\u001b[38;5;241m.\u001b[39m_generate_encoder_mask(gtrend_emb\u001b[38;5;241m.\u001b[39mshape[\u001b[38;5;241m0\u001b[39m], \u001b[38;5;28mself\u001b[39m\u001b[38;5;241m.\u001b[39mforecast_horizon)\n",
      "File \u001b[0;32m~/Dev/PyEnv/env/lib/python3.8/site-packages/torch/nn/modules/module.py:1501\u001b[0m, in \u001b[0;36mModule._call_impl\u001b[0;34m(self, *args, **kwargs)\u001b[0m\n\u001b[1;32m   1496\u001b[0m \u001b[38;5;66;03m# If we don't have any hooks, we want to skip the rest of the logic in\u001b[39;00m\n\u001b[1;32m   1497\u001b[0m \u001b[38;5;66;03m# this function, and just call forward.\u001b[39;00m\n\u001b[1;32m   1498\u001b[0m \u001b[38;5;28;01mif\u001b[39;00m \u001b[38;5;129;01mnot\u001b[39;00m (\u001b[38;5;28mself\u001b[39m\u001b[38;5;241m.\u001b[39m_backward_hooks \u001b[38;5;129;01mor\u001b[39;00m \u001b[38;5;28mself\u001b[39m\u001b[38;5;241m.\u001b[39m_backward_pre_hooks \u001b[38;5;129;01mor\u001b[39;00m \u001b[38;5;28mself\u001b[39m\u001b[38;5;241m.\u001b[39m_forward_hooks \u001b[38;5;129;01mor\u001b[39;00m \u001b[38;5;28mself\u001b[39m\u001b[38;5;241m.\u001b[39m_forward_pre_hooks\n\u001b[1;32m   1499\u001b[0m         \u001b[38;5;129;01mor\u001b[39;00m _global_backward_pre_hooks \u001b[38;5;129;01mor\u001b[39;00m _global_backward_hooks\n\u001b[1;32m   1500\u001b[0m         \u001b[38;5;129;01mor\u001b[39;00m _global_forward_hooks \u001b[38;5;129;01mor\u001b[39;00m _global_forward_pre_hooks):\n\u001b[0;32m-> 1501\u001b[0m     \u001b[38;5;28;01mreturn\u001b[39;00m \u001b[43mforward_call\u001b[49m\u001b[43m(\u001b[49m\u001b[38;5;241;43m*\u001b[39;49m\u001b[43margs\u001b[49m\u001b[43m,\u001b[49m\u001b[43m \u001b[49m\u001b[38;5;241;43m*\u001b[39;49m\u001b[38;5;241;43m*\u001b[39;49m\u001b[43mkwargs\u001b[49m\u001b[43m)\u001b[49m\n\u001b[1;32m   1502\u001b[0m \u001b[38;5;66;03m# Do not call functions when jit is used\u001b[39;00m\n\u001b[1;32m   1503\u001b[0m full_backward_hooks, non_full_backward_hooks \u001b[38;5;241m=\u001b[39m [], []\n",
      "File \u001b[0;32m~/Dev/PyEnv/GTM-Transformer/models/GTM.py:44\u001b[0m, in \u001b[0;36mTimeDistributed.forward\u001b[0;34m(self, x)\u001b[0m\n\u001b[1;32m     41\u001b[0m \u001b[38;5;66;03m# Squash samples and timesteps into a single axis\u001b[39;00m\n\u001b[1;32m     42\u001b[0m x_reshape \u001b[38;5;241m=\u001b[39m x\u001b[38;5;241m.\u001b[39mcontiguous()\u001b[38;5;241m.\u001b[39mview(\u001b[38;5;241m-\u001b[39m\u001b[38;5;241m1\u001b[39m, x\u001b[38;5;241m.\u001b[39msize(\u001b[38;5;241m-\u001b[39m\u001b[38;5;241m1\u001b[39m))  \n\u001b[0;32m---> 44\u001b[0m y \u001b[38;5;241m=\u001b[39m \u001b[38;5;28;43mself\u001b[39;49m\u001b[38;5;241;43m.\u001b[39;49m\u001b[43mmodule\u001b[49m\u001b[43m(\u001b[49m\u001b[43mx_reshape\u001b[49m\u001b[43m)\u001b[49m\n\u001b[1;32m     46\u001b[0m \u001b[38;5;66;03m# We have to reshape Y\u001b[39;00m\n\u001b[1;32m     47\u001b[0m \u001b[38;5;28;01mif\u001b[39;00m \u001b[38;5;28mself\u001b[39m\u001b[38;5;241m.\u001b[39mbatch_first:\n",
      "File \u001b[0;32m~/Dev/PyEnv/env/lib/python3.8/site-packages/torch/nn/modules/module.py:1501\u001b[0m, in \u001b[0;36mModule._call_impl\u001b[0;34m(self, *args, **kwargs)\u001b[0m\n\u001b[1;32m   1496\u001b[0m \u001b[38;5;66;03m# If we don't have any hooks, we want to skip the rest of the logic in\u001b[39;00m\n\u001b[1;32m   1497\u001b[0m \u001b[38;5;66;03m# this function, and just call forward.\u001b[39;00m\n\u001b[1;32m   1498\u001b[0m \u001b[38;5;28;01mif\u001b[39;00m \u001b[38;5;129;01mnot\u001b[39;00m (\u001b[38;5;28mself\u001b[39m\u001b[38;5;241m.\u001b[39m_backward_hooks \u001b[38;5;129;01mor\u001b[39;00m \u001b[38;5;28mself\u001b[39m\u001b[38;5;241m.\u001b[39m_backward_pre_hooks \u001b[38;5;129;01mor\u001b[39;00m \u001b[38;5;28mself\u001b[39m\u001b[38;5;241m.\u001b[39m_forward_hooks \u001b[38;5;129;01mor\u001b[39;00m \u001b[38;5;28mself\u001b[39m\u001b[38;5;241m.\u001b[39m_forward_pre_hooks\n\u001b[1;32m   1499\u001b[0m         \u001b[38;5;129;01mor\u001b[39;00m _global_backward_pre_hooks \u001b[38;5;129;01mor\u001b[39;00m _global_backward_hooks\n\u001b[1;32m   1500\u001b[0m         \u001b[38;5;129;01mor\u001b[39;00m _global_forward_hooks \u001b[38;5;129;01mor\u001b[39;00m _global_forward_pre_hooks):\n\u001b[0;32m-> 1501\u001b[0m     \u001b[38;5;28;01mreturn\u001b[39;00m \u001b[43mforward_call\u001b[49m\u001b[43m(\u001b[49m\u001b[38;5;241;43m*\u001b[39;49m\u001b[43margs\u001b[49m\u001b[43m,\u001b[49m\u001b[43m \u001b[49m\u001b[38;5;241;43m*\u001b[39;49m\u001b[38;5;241;43m*\u001b[39;49m\u001b[43mkwargs\u001b[49m\u001b[43m)\u001b[49m\n\u001b[1;32m   1502\u001b[0m \u001b[38;5;66;03m# Do not call functions when jit is used\u001b[39;00m\n\u001b[1;32m   1503\u001b[0m full_backward_hooks, non_full_backward_hooks \u001b[38;5;241m=\u001b[39m [], []\n",
      "File \u001b[0;32m~/Dev/PyEnv/env/lib/python3.8/site-packages/torch/nn/modules/linear.py:114\u001b[0m, in \u001b[0;36mLinear.forward\u001b[0;34m(self, input)\u001b[0m\n\u001b[1;32m    113\u001b[0m \u001b[38;5;28;01mdef\u001b[39;00m \u001b[38;5;21mforward\u001b[39m(\u001b[38;5;28mself\u001b[39m, \u001b[38;5;28minput\u001b[39m: Tensor) \u001b[38;5;241m-\u001b[39m\u001b[38;5;241m>\u001b[39m Tensor:\n\u001b[0;32m--> 114\u001b[0m     \u001b[38;5;28;01mreturn\u001b[39;00m \u001b[43mF\u001b[49m\u001b[38;5;241;43m.\u001b[39;49m\u001b[43mlinear\u001b[49m\u001b[43m(\u001b[49m\u001b[38;5;28;43minput\u001b[39;49m\u001b[43m,\u001b[49m\u001b[43m \u001b[49m\u001b[38;5;28;43mself\u001b[39;49m\u001b[38;5;241;43m.\u001b[39;49m\u001b[43mweight\u001b[49m\u001b[43m,\u001b[49m\u001b[43m \u001b[49m\u001b[38;5;28;43mself\u001b[39;49m\u001b[38;5;241;43m.\u001b[39;49m\u001b[43mbias\u001b[49m\u001b[43m)\u001b[49m\n",
      "\u001b[0;31mRuntimeError\u001b[0m: mat1 and mat2 shapes cannot be multiplied (52x3 and 2x64)"
     ]
    }
   ],
   "source": [
    "run(args)"
   ]
  }
 ],
 "metadata": {
  "kernelspec": {
   "display_name": "Python 3 (ipykernel)",
   "language": "python",
   "name": "python3"
  },
  "language_info": {
   "codemirror_mode": {
    "name": "ipython",
    "version": 3
   },
   "file_extension": ".py",
   "mimetype": "text/x-python",
   "name": "python",
   "nbconvert_exporter": "python",
   "pygments_lexer": "ipython3",
   "version": "3.8.17"
  }
 },
 "nbformat": 4,
 "nbformat_minor": 5
}
